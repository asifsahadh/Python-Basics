{
 "cells": [
  {
   "cell_type": "markdown",
   "id": "5706286d-8df4-4227-b3eb-f7622403c524",
   "metadata": {},
   "source": [
    "## Lists & Tuples"
   ]
  },
  {
   "cell_type": "markdown",
   "id": "52c20056-6a52-4fc0-9218-7b46d10a3165",
   "metadata": {},
   "source": [
    "**1. Write a Python program to create a list of integers and print all elements of the list.**"
   ]
  },
  {
   "cell_type": "code",
   "execution_count": 6,
   "id": "82b0c4be-8ddb-4688-82a9-0eb4d568eba5",
   "metadata": {},
   "outputs": [
    {
     "name": "stdin",
     "output_type": "stream",
     "text": [
      "Enter numbers seperated by spaces:  1 2 3 4 5\n"
     ]
    },
    {
     "name": "stdout",
     "output_type": "stream",
     "text": [
      "\n",
      "1\n",
      "2\n",
      "3\n",
      "4\n",
      "5\n"
     ]
    }
   ],
   "source": [
    "nums = input(\"Enter numbers seperated by spaces: \")\n",
    "li = nums.split()\n",
    "l = []\n",
    "print()\n",
    "for num in li:\n",
    "    l.append(int(num))\n",
    "for num in l:\n",
    "    print(num)"
   ]
  },
  {
   "cell_type": "markdown",
   "id": "ae792537-43d2-4086-b5bb-af6633e7728e",
   "metadata": {},
   "source": [
    "**2. Write a Python program to find and display the length of a given list.**"
   ]
  },
  {
   "cell_type": "code",
   "execution_count": 7,
   "id": "67bfdc7f-fc46-4e19-9973-99a8397b638e",
   "metadata": {},
   "outputs": [
    {
     "name": "stdin",
     "output_type": "stream",
     "text": [
      "Enter numbers seperated by spaces:  1 2 3 4 5\n"
     ]
    },
    {
     "name": "stdout",
     "output_type": "stream",
     "text": [
      "\n",
      "The length of the list is 5\n"
     ]
    }
   ],
   "source": [
    "nums = input(\"Enter numbers seperated by spaces: \")\n",
    "li = nums.split()\n",
    "l = []\n",
    "for num in li:\n",
    "    l.append(int(num))\n",
    "print()\n",
    "print(\"The length of the list is\", len(l))"
   ]
  },
  {
   "cell_type": "markdown",
   "id": "fc7db826-d656-4929-8666-b4a83b804f95",
   "metadata": {},
   "source": [
    "**3. Write a Python program to access and print an element at a specific index in a tuple.**"
   ]
  },
  {
   "cell_type": "code",
   "execution_count": 8,
   "id": "06708c5d-4047-413a-a09b-ec319cb29f86",
   "metadata": {},
   "outputs": [
    {
     "name": "stdin",
     "output_type": "stream",
     "text": [
      "Enter numbers seperated by spaces:  2 4 6 8 0\n",
      "Enter the index:  3\n"
     ]
    },
    {
     "name": "stdout",
     "output_type": "stream",
     "text": [
      "\n",
      "8\n"
     ]
    }
   ],
   "source": [
    "nums = input(\"Enter numbers seperated by spaces: \")\n",
    "li = nums.split()\n",
    "l = []\n",
    "for num in li:\n",
    "    l.append(int(num))\n",
    "    \n",
    "index = input(\"Enter the index: \")\n",
    "print()\n",
    "print(l[int(index)])"
   ]
  },
  {
   "cell_type": "markdown",
   "id": "c0cba81e-4136-4bf9-83ea-466895bcb036",
   "metadata": {},
   "source": [
    "**4. Write a Python program to check whether a specific element exists in a list and print a message if found.**"
   ]
  },
  {
   "cell_type": "code",
   "execution_count": 12,
   "id": "373cca84-0525-45fb-9181-88a821b4f4b8",
   "metadata": {},
   "outputs": [
    {
     "name": "stdin",
     "output_type": "stream",
     "text": [
      "Enter numbers seperated by spaces:  1 2 3 4 5\n",
      "Enter the number:  5\n"
     ]
    },
    {
     "name": "stdout",
     "output_type": "stream",
     "text": [
      "\n",
      "5 exists in the list!\n"
     ]
    }
   ],
   "source": [
    "nums = input(\"Enter numbers seperated by spaces: \")\n",
    "li = nums.split()\n",
    "l = []\n",
    "for num in li:\n",
    "    l.append(int(num))\n",
    "\n",
    "num = int(input(\"Enter the number: \"))\n",
    "print()\n",
    "if num in l:\n",
    "    print(f\"{num} exists in the list!\")\n",
    "else:\n",
    "    print(f\"{num} does not exist!\")"
   ]
  },
  {
   "cell_type": "markdown",
   "id": "5f80bd70-e818-4679-9b2d-cf2bb50fe2a6",
   "metadata": {},
   "source": [
    "**5. Write a Python program to concatenate two lists and print the resulting list.**"
   ]
  },
  {
   "cell_type": "code",
   "execution_count": 19,
   "id": "11c34482-8e56-43b5-95a4-5d273ac6682b",
   "metadata": {},
   "outputs": [
    {
     "name": "stdin",
     "output_type": "stream",
     "text": [
      "Enter numbers seperated by spaces (list 1):  1 2 3\n",
      "Enter numbers seperated by spaces (list 2):  4 5 6\n"
     ]
    },
    {
     "name": "stdout",
     "output_type": "stream",
     "text": [
      "\n",
      "[1, 2, 3, 4, 5, 6]\n"
     ]
    }
   ],
   "source": [
    "nums1 = input(\"Enter numbers seperated by spaces (list 1): \")\n",
    "li1 = nums1.split()\n",
    "l1 = []\n",
    "for num in li1:\n",
    "    l1.append(int(num))\n",
    "\n",
    "nums2 = input(\"Enter numbers seperated by spaces (list 2): \")\n",
    "li2 = nums2.split()\n",
    "l2 = []\n",
    "for num in li2:\n",
    "    l1.append(int(num))\n",
    "    \n",
    "print()\n",
    "print(l1)"
   ]
  },
  {
   "cell_type": "markdown",
   "id": "84e14685-0200-4fbf-88e5-d449efc34996",
   "metadata": {},
   "source": [
    "**6. Write a Python program to append a new element to a given list and display the updated list.**"
   ]
  },
  {
   "cell_type": "code",
   "execution_count": 22,
   "id": "a8981211-09b6-4d41-8b2a-2f6248d187e9",
   "metadata": {},
   "outputs": [
    {
     "name": "stdin",
     "output_type": "stream",
     "text": [
      "Enter numbers seperated by spaces:  2 4 6 8\n",
      "Enter new numbers:  10\n"
     ]
    },
    {
     "name": "stdout",
     "output_type": "stream",
     "text": [
      "\n",
      "[2, 4, 6, 8, 10]\n"
     ]
    }
   ],
   "source": [
    "nums = input(\"Enter numbers seperated by spaces: \")\n",
    "li = nums.split()\n",
    "l = []\n",
    "for num in li:\n",
    "    l.append(int(num))\n",
    "\n",
    "number = input(\"Enter new numbers: \")\n",
    "l.append(int(number))\n",
    "    \n",
    "print()\n",
    "print(l)"
   ]
  },
  {
   "cell_type": "markdown",
   "id": "55e666ae-4da2-4193-8774-acbc34eba610",
   "metadata": {},
   "source": [
    "**7. Write a Python program to slice a list to obtain a portion of it and print the result.**"
   ]
  },
  {
   "cell_type": "code",
   "execution_count": 26,
   "id": "dee2db7c-e7b5-4b57-b72d-3c9943470339",
   "metadata": {},
   "outputs": [
    {
     "name": "stdin",
     "output_type": "stream",
     "text": [
      "Enter numbers seperated by spaces:  2 3 4 5 6 7 8\n",
      "Enter starting index:  2\n",
      "Enter ending index:  5\n"
     ]
    },
    {
     "name": "stdout",
     "output_type": "stream",
     "text": [
      "[4, 5, 6, 7]\n"
     ]
    }
   ],
   "source": [
    "nums = input(\"Enter numbers seperated by spaces: \")\n",
    "li = nums.split()\n",
    "l = []\n",
    "for num in li:\n",
    "    l.append(int(num))\n",
    "\n",
    "s = int(input(\"Enter starting index: \"))\n",
    "e = int(input(\"Enter ending index: \"))\n",
    "final = []\n",
    "\n",
    "for i in range(s, e + 1):\n",
    "    final.append(l[i])\n",
    "\n",
    "print(final)"
   ]
  },
  {
   "cell_type": "markdown",
   "id": "416bd6dc-e393-450f-89e1-2c7ccd9dbaa7",
   "metadata": {},
   "source": [
    "**8. Write a Python program to convert a tuple to a list and display the result.**"
   ]
  },
  {
   "cell_type": "code",
   "execution_count": 31,
   "id": "e95264fc-ca04-4481-bfb4-0e04e9f82beb",
   "metadata": {},
   "outputs": [
    {
     "name": "stdout",
     "output_type": "stream",
     "text": [
      "[1, 2, 3, 4, 5]\n"
     ]
    }
   ],
   "source": [
    "t = (1, 2, 3, 4, 5)\n",
    "l = list(t)\n",
    "print(l)"
   ]
  },
  {
   "cell_type": "markdown",
   "id": "516de966-0401-472f-98e6-61a9617a8a7e",
   "metadata": {},
   "source": [
    "**9. Write a Python program to count and print the number of times a particular element appears in a list.**"
   ]
  },
  {
   "cell_type": "code",
   "execution_count": 37,
   "id": "10f0600a-81d1-4112-8f70-d06825702e23",
   "metadata": {},
   "outputs": [
    {
     "name": "stdin",
     "output_type": "stream",
     "text": [
      "Enter numbers seperated by spaces:  1 1 2 2 3 3 3 3 3 3 4 \n",
      "Enter number:  3\n"
     ]
    },
    {
     "name": "stdout",
     "output_type": "stream",
     "text": [
      "\n",
      "The number 3 appears 6 times in the list.\n"
     ]
    }
   ],
   "source": [
    "nums = input(\"Enter numbers seperated by spaces: \")\n",
    "li = nums.split()\n",
    "l = []\n",
    "for num in li:\n",
    "    l.append(int(num))\n",
    "\n",
    "num = input(\"Enter number: \")\n",
    "c = 0\n",
    "for i in nums:\n",
    "    if num == i:\n",
    "        c += 1\n",
    "        \n",
    "print()\n",
    "print(f\"The number {num} appears {c} times in the list.\")"
   ]
  },
  {
   "cell_type": "markdown",
   "id": "8f1c8603-7e3e-4822-a5e5-97a91dc8a6fb",
   "metadata": {},
   "source": [
    "**10. Write a Python program to sort a list of integers in ascending order and display the sorted list.**"
   ]
  },
  {
   "cell_type": "code",
   "execution_count": 46,
   "id": "c430ae7f-2c76-4e8f-8e4e-960a93e9c932",
   "metadata": {},
   "outputs": [
    {
     "name": "stdin",
     "output_type": "stream",
     "text": [
      "Enter numbers seperated by spaces:  2 5 1 2 3 9 8 7\n"
     ]
    },
    {
     "name": "stdout",
     "output_type": "stream",
     "text": [
      "\n",
      "[1, 2, 2, 3, 5, 7, 8, 9]\n"
     ]
    }
   ],
   "source": [
    "nums = input(\"Enter numbers seperated by spaces: \")\n",
    "li = nums.split()\n",
    "l = []\n",
    "for num in li:\n",
    "    l.append(int(num))\n",
    "    \n",
    "l.sort()\n",
    "\n",
    "print()\n",
    "print(l)"
   ]
  },
  {
   "cell_type": "markdown",
   "id": "13aeeec5-5125-472b-951a-2fbe0e568079",
   "metadata": {},
   "source": [
    "**11. Write a Python program to remove duplicate elements from a list and print the unique elements.**"
   ]
  },
  {
   "cell_type": "code",
   "execution_count": 48,
   "id": "d02bfde7-2adf-471f-9b5c-8f50152d9794",
   "metadata": {},
   "outputs": [
    {
     "name": "stdin",
     "output_type": "stream",
     "text": [
      "Enter numbers seperated by spaces:  3 2 2 4 3 3 5 1 1 1 \n"
     ]
    },
    {
     "name": "stdout",
     "output_type": "stream",
     "text": [
      "\n",
      "[1, 2, 3, 4, 5]\n"
     ]
    }
   ],
   "source": [
    "nums = input(\"Enter numbers seperated by spaces: \")\n",
    "li = nums.split()\n",
    "l = []\n",
    "for num in li:\n",
    "    l.append(int(num))\n",
    "\n",
    "pre = set(l)\n",
    "final = list(pre)\n",
    "\n",
    "print()\n",
    "print(final)"
   ]
  },
  {
   "cell_type": "markdown",
   "id": "8de737e4-58f5-40ff-8f85-7eb5d33b034d",
   "metadata": {},
   "source": [
    "**12. Write a Python program to find and display the index of a specified element in a list.**"
   ]
  },
  {
   "cell_type": "code",
   "execution_count": 54,
   "id": "f6f06c86-f24b-45e8-b2b1-bbe4a96bf593",
   "metadata": {},
   "outputs": [
    {
     "name": "stdin",
     "output_type": "stream",
     "text": [
      "Enter numbers seperated by spaces:  3 4 1 7 8\n",
      "Enter number:  8\n"
     ]
    },
    {
     "name": "stdout",
     "output_type": "stream",
     "text": [
      "\n",
      "Index of the number 8 in the list is 4\n"
     ]
    }
   ],
   "source": [
    "nums = input(\"Enter numbers seperated by spaces: \")\n",
    "li = nums.split()\n",
    "l = []\n",
    "for num in li:\n",
    "    l.append(int(num))\n",
    "\n",
    "n = int(input(\"Enter number: \"))\n",
    "print()\n",
    "for i in range(0, len(l)):\n",
    "    if l[i] == n:\n",
    "        print(f\"Index of the number {n} in the list is {i}\")"
   ]
  },
  {
   "cell_type": "markdown",
   "id": "20c25765-2e5a-4e1c-bea3-e6f3f23fce70",
   "metadata": {},
   "source": [
    "**13. Write a Python program to merge two tuples into a single tuple and display the result.**"
   ]
  },
  {
   "cell_type": "code",
   "execution_count": 56,
   "id": "d9ce4eea-1279-45e6-a5e3-929b3cb91b38",
   "metadata": {},
   "outputs": [
    {
     "name": "stdout",
     "output_type": "stream",
     "text": [
      "(1, 2, 3, 4, 5, 6, 7, 8, 9, 0)\n"
     ]
    }
   ],
   "source": [
    "tup1 = (1, 2, 3, 4, 5)\n",
    "tup2 = (6, 7, 8, 9, 0)\n",
    "tup3 = tup1 + tup2\n",
    "print(tup3)"
   ]
  },
  {
   "cell_type": "markdown",
   "id": "a8abfe1a-fd68-4b81-a91d-c6d1e9fb08c6",
   "metadata": {},
   "source": [
    "**14. Write a Python program to insert a new element at a specific index in a list.**"
   ]
  },
  {
   "cell_type": "code",
   "execution_count": 60,
   "id": "4d256150-36bd-4b58-96ec-70cd221e1ddd",
   "metadata": {},
   "outputs": [
    {
     "name": "stdin",
     "output_type": "stream",
     "text": [
      "Enter numbers seperated by spaces:  3 5 2 3 4 5\n",
      "Enter number:  9\n",
      "Enter index:  2\n"
     ]
    },
    {
     "name": "stdout",
     "output_type": "stream",
     "text": [
      "\n",
      "[3, 5, 9, 2, 3, 4, 5]\n"
     ]
    }
   ],
   "source": [
    "nums = input(\"Enter numbers seperated by spaces: \")\n",
    "li = nums.split()\n",
    "l = []\n",
    "for num in li:\n",
    "    l.append(int(num))\n",
    "\n",
    "n = int(input(\"Enter number: \"))\n",
    "i = int(input(\"Enter index: \"))\n",
    "\n",
    "l.insert(i, n)\n",
    "\n",
    "print()\n",
    "print(l)"
   ]
  },
  {
   "cell_type": "markdown",
   "id": "c5e34b82-e84d-4c4a-bd65-5aa0536fabc0",
   "metadata": {},
   "source": [
    "**15. Write a Python program to find and print the maximum and minimum values from a list of integers.**"
   ]
  },
  {
   "cell_type": "code",
   "execution_count": 315,
   "id": "3f07c7df-2568-4399-a243-5dc7b9c7f797",
   "metadata": {},
   "outputs": [
    {
     "name": "stdin",
     "output_type": "stream",
     "text": [
      "Enter numbers seperated by spaces:  3 4 2 9 8\n"
     ]
    },
    {
     "name": "stdout",
     "output_type": "stream",
     "text": [
      "\n",
      "The minimum value in the list is 2\n",
      "The maximum value in the list is 9\n"
     ]
    }
   ],
   "source": [
    "nums = input(\"Enter numbers seperated by spaces: \")\n",
    "li = nums.split()\n",
    "l = []\n",
    "for num in li:\n",
    "    l.append(int(num))\n",
    "\n",
    "print()\n",
    "print(\"The minimum value in the list is\", min(l))\n",
    "print(\"The maximum value in the list is\", max(l))"
   ]
  },
  {
   "cell_type": "markdown",
   "id": "d4bcb5e8-1624-41d7-bab8-a6b2a324c75b",
   "metadata": {},
   "source": [
    "**16. Write a Python program to reverse the elements of a tuple and display the reversed tuple.**"
   ]
  },
  {
   "cell_type": "code",
   "execution_count": 66,
   "id": "acf94b3d-5d2a-4e9d-be45-2d89b400c9f1",
   "metadata": {},
   "outputs": [
    {
     "name": "stdout",
     "output_type": "stream",
     "text": [
      "(9, 7, 5, 3)\n"
     ]
    }
   ],
   "source": [
    "tup = (3, 5, 7, 9)\n",
    "l = []\n",
    "for num in tup:\n",
    "    l.append(num)\n",
    "l.reverse()\n",
    "print(tuple(l))"
   ]
  },
  {
   "cell_type": "markdown",
   "id": "aba339e1-0838-4979-ab05-0f1bd109bd6b",
   "metadata": {},
   "source": [
    "**17. Write a Python program to calculate and display the sum of all elements in a list of integers.**"
   ]
  },
  {
   "cell_type": "code",
   "execution_count": 73,
   "id": "c7dfcc68-d372-403b-be7e-5f54e070245e",
   "metadata": {},
   "outputs": [
    {
     "name": "stdin",
     "output_type": "stream",
     "text": [
      "Enter numbers seperated by spaces:  6 5 4 3 0 8 7 6\n"
     ]
    },
    {
     "name": "stdout",
     "output_type": "stream",
     "text": [
      "\n",
      "Sum of all the numbers in the list [6, 5, 4, 3, 0, 8, 7, 6] is 39\n"
     ]
    }
   ],
   "source": [
    "nums = input(\"Enter numbers seperated by spaces: \")\n",
    "li = nums.split()\n",
    "l = []\n",
    "for num in li:\n",
    "    l.append(int(num))\n",
    "    \n",
    "print()\n",
    "print(f\"Sum of all the numbers in the list {l} is {sum(l)}\")"
   ]
  },
  {
   "cell_type": "markdown",
   "id": "f6a80454-e873-46c2-99ad-971d10e5125a",
   "metadata": {},
   "source": [
    "**18. Write a Python program to unpack a tuple into individual variables and print each variable.**"
   ]
  },
  {
   "cell_type": "code",
   "execution_count": 72,
   "id": "5792e583-0ac3-4c19-8dcc-c368668acf24",
   "metadata": {},
   "outputs": [
    {
     "name": "stdout",
     "output_type": "stream",
     "text": [
      "a = 6\n",
      "b = 7\n",
      "c = 6\n",
      "d = 2\n",
      "e = 1\n"
     ]
    }
   ],
   "source": [
    "tup = (6, 7, 6, 2, 1)\n",
    "a, b, c, d, e = tup\n",
    "print(\"a =\", a)\n",
    "print(\"b =\", b)\n",
    "print(\"c =\", c)\n",
    "print(\"d =\", d)\n",
    "print(\"e =\", e)"
   ]
  },
  {
   "cell_type": "markdown",
   "id": "0e31acb2-351b-465b-8d21-6f482bd0b2a4",
   "metadata": {},
   "source": [
    "**19. Write a Python program to remove all occurrences of a specified element from a list.**"
   ]
  },
  {
   "cell_type": "code",
   "execution_count": 86,
   "id": "e5bb39b4-3fae-4149-a67c-1c97d5ead990",
   "metadata": {},
   "outputs": [
    {
     "name": "stdin",
     "output_type": "stream",
     "text": [
      "Enter numbers seperated by spaces:  5 5 6 7 1 5 6 5 4 \n",
      "Enter number:  5\n"
     ]
    },
    {
     "name": "stdout",
     "output_type": "stream",
     "text": [
      "\n",
      "[6, 7, 1, 6, 4]\n"
     ]
    }
   ],
   "source": [
    "nums = input(\"Enter numbers seperated by spaces: \")\n",
    "li = nums.split()\n",
    "l = []\n",
    "for num in li:\n",
    "    l.append(int(num))\n",
    "\n",
    "n = int(input(\"Enter number: \"))\n",
    "for num in l:\n",
    "    if num == n:\n",
    "        l.remove(num)    \n",
    "if n in l:\n",
    "    l.remove(n)\n",
    "\n",
    "print()\n",
    "print(l)"
   ]
  },
  {
   "cell_type": "markdown",
   "id": "438f132a-f72f-4ee3-b909-840432ec0190",
   "metadata": {},
   "source": [
    "**20. Write a Python program to find and print the union of two lists (without duplicates).**"
   ]
  },
  {
   "cell_type": "code",
   "execution_count": 92,
   "id": "75af1c6d-e688-424b-8653-894179769099",
   "metadata": {},
   "outputs": [
    {
     "name": "stdout",
     "output_type": "stream",
     "text": [
      "[2, 4, 5, 8, 9]\n"
     ]
    }
   ],
   "source": [
    "l1 = [2, 4, 4, 2, 8, 9]\n",
    "l2 = [5, 9]\n",
    "\n",
    "union = list(set(l1) | set(l2))\n",
    "\n",
    "print(union)"
   ]
  },
  {
   "cell_type": "markdown",
   "id": "89d02f03-dba5-4ab7-b1c3-8f82dfbb1094",
   "metadata": {},
   "source": [
    "**21. Given a list of numbers, calculate the mean, median, and standard deviation. Store the results in a tuple.**"
   ]
  },
  {
   "cell_type": "code",
   "execution_count": 140,
   "id": "cf5cd792-66a6-4054-80be-0a0a147515fa",
   "metadata": {},
   "outputs": [
    {
     "name": "stdin",
     "output_type": "stream",
     "text": [
      "Enter numbers seperated by spaces:  6 3 12 3 22 9\n"
     ]
    },
    {
     "name": "stdout",
     "output_type": "stream",
     "text": [
      "\n",
      "Mean: 9.17\n",
      "Median: 7.50\n",
      "Standard Deviation: 6.57\n"
     ]
    }
   ],
   "source": [
    "nums = input(\"Enter numbers seperated by spaces: \")\n",
    "li = nums.split()\n",
    "l = []\n",
    "for num in li:\n",
    "    l.append(int(num))\n",
    "\n",
    "n = len(l)\n",
    "l.sort()\n",
    "\n",
    "# mean\n",
    "mean = sum(l) / n\n",
    "\n",
    "# median\n",
    "if n % 2 != 0:\n",
    "    median = l[n // 2] \n",
    "else:\n",
    "    median = (l[n // 2 - 1] + l[n // 2]) / 2 \n",
    "\n",
    "# standard deviation\n",
    "summation = 0\n",
    "for i in l:\n",
    "    summation += (i - mean) ** 2\n",
    "variance = summation / n\n",
    "sd = variance ** 0.5\n",
    "\n",
    "print()\n",
    "print(\"Mean: {:.2f}\".format(mean))\n",
    "print(\"Median: {:.2f}\".format(median))\n",
    "print(\"Standard Deviation: {:.2f}\".format(sd))"
   ]
  },
  {
   "cell_type": "markdown",
   "id": "4aac44b8-7e95-4148-a931-87833325a33d",
   "metadata": {},
   "source": [
    "**22. Create a histogram from a list of numerical values and represent it as a list of tuples, where each tuple contains a range and the count of values in that range.**"
   ]
  },
  {
   "cell_type": "code",
   "execution_count": 244,
   "id": "a761edc1-c1aa-4b82-bb03-5b0e6fe918e1",
   "metadata": {},
   "outputs": [
    {
     "name": "stdout",
     "output_type": "stream",
     "text": [
      "(0, 10, 3)\n",
      "(11, 20, 2)\n",
      "(21, 30, 4)\n",
      "(31, 40, 4)\n",
      "(41, 50, 1)\n"
     ]
    }
   ],
   "source": [
    "bins = [(0, 10), (11, 20), (21, 30), (31, 40), (41, 50)]\n",
    "inp = [1, 5, 7, 12, 19, 22, 25, 26, 30, 32, 35, 38, 40, 42]\n",
    "l = []\n",
    "\n",
    "for bin in bins:\n",
    "    s, e = bin[0], bin[1]\n",
    "    c = 0\n",
    "    for num in inp:\n",
    "        if s <= num <= e:\n",
    "            c += 1\n",
    "    l.append(c)\n",
    "    c = 0\n",
    "\n",
    "for i in range(len(bins)):\n",
    "    temp = l[i]\n",
    "    fin = bins[i] + (temp, )\n",
    "    print(fin)"
   ]
  },
  {
   "cell_type": "markdown",
   "id": "243a62d8-fe28-4b92-a70b-593337cd15ec",
   "metadata": {},
   "source": [
    "**23. Given a list of values (numbers or strings), create a list of tuples containing unique values and their counts.**"
   ]
  },
  {
   "cell_type": "code",
   "execution_count": 278,
   "id": "5c727dab-5e18-4e8b-8e53-a32d517e6975",
   "metadata": {},
   "outputs": [
    {
     "name": "stdout",
     "output_type": "stream",
     "text": [
      "[('mahek', 3), (4, 3), (2, 1), (3, 1), ('asif', 1)]\n"
     ]
    }
   ],
   "source": [
    "l = ['mahek', 4, 2, 3, 4, 4, 'asif', 'mahek', 'mahek']\n",
    "\n",
    "final = {}\n",
    "for i in l:\n",
    "    if i in final:\n",
    "        final[i] += 1\n",
    "    else:\n",
    "        final[i] = 1\n",
    "        \n",
    "print(list(final.items()))"
   ]
  },
  {
   "cell_type": "markdown",
   "id": "3cb5e03c-e639-4e95-94fb-3d67e01cb3bf",
   "metadata": {},
   "source": [
    "**24. Given a list of prices, calculate the percentage change between consecutive prices and store the results in a new list.**"
   ]
  },
  {
   "cell_type": "code",
   "execution_count": 218,
   "id": "42f6cf45-6913-4ed3-89be-1057251664d6",
   "metadata": {},
   "outputs": [
    {
     "name": "stdin",
     "output_type": "stream",
     "text": [
      "Enter the prices seperated by spaces:  220 215 260 250 200\n"
     ]
    },
    {
     "name": "stdout",
     "output_type": "stream",
     "text": [
      "\n",
      "[-2.272727272727273, 20.930232558139537, -3.8461538461538463, -20.0]\n"
     ]
    }
   ],
   "source": [
    "nums = input(\"Enter the prices seperated by spaces: \")\n",
    "li = nums.split()\n",
    "prices = []\n",
    "for num in li:\n",
    "    prices.append(int(num))\n",
    "    \n",
    "length = len(prices)\n",
    "final = []\n",
    "for i in range(len(prices) - 1):\n",
    "    res = (prices[i + 1] - prices[i]) / prices[i] * 100\n",
    "    final.append(res)\n",
    "    \n",
    "print()\n",
    "print(final)"
   ]
  },
  {
   "cell_type": "markdown",
   "id": "ede1b742-a484-4343-9bd8-51f7ec94f456",
   "metadata": {},
   "source": [
    "**25. Given a nested list (a list of lists), create a single flattened list containing all the elements.**"
   ]
  },
  {
   "cell_type": "code",
   "execution_count": 187,
   "id": "6228bfa0-7d5d-45f4-9a3b-6fd7d762e926",
   "metadata": {},
   "outputs": [
    {
     "name": "stdout",
     "output_type": "stream",
     "text": [
      "[2, 3, 4, 9, 0, 4, 5]\n"
     ]
    }
   ],
   "source": [
    "l = [[2, 3, 4], [9, 0, 4, 5]]\n",
    "final = []\n",
    "for i in l:\n",
    "    for j in i:\n",
    "        final.append(j)\n",
    "print(final)"
   ]
  },
  {
   "cell_type": "markdown",
   "id": "51cb12bd-8472-491f-9b83-4ec26d0492c2",
   "metadata": {},
   "source": [
    "**26. Given a list of numbers, create a list of tuples containing the pairwise differences between all unique pairs.**"
   ]
  },
  {
   "cell_type": "code",
   "execution_count": 268,
   "id": "744f4c9a-4476-47c0-9979-115cc873341c",
   "metadata": {},
   "outputs": [
    {
     "name": "stdin",
     "output_type": "stream",
     "text": [
      "Enter numbers seperated by spaces:  5 7 4 4\n"
     ]
    },
    {
     "name": "stdout",
     "output_type": "stream",
     "text": [
      "\n",
      "[(4, 5, -1), (4, 7, -3), (5, 4, 1), (5, 7, -2), (7, 4, 3), (7, 5, 2)]\n"
     ]
    }
   ],
   "source": [
    "nums = input(\"Enter numbers seperated by spaces: \")\n",
    "li = nums.split()\n",
    "l = []\n",
    "for num in li:\n",
    "    l.append(int(num))\n",
    "    \n",
    "temp_set = set(l)\n",
    "new_l = list(temp_set)\n",
    "final = []\n",
    "for i in new_l:\n",
    "    for j in new_l:\n",
    "        if i == j:\n",
    "            continue\n",
    "        tup = (i, j, i - j)\n",
    "        final.append(tup)\n",
    "        \n",
    "print()\n",
    "print(final)"
   ]
  },
  {
   "cell_type": "markdown",
   "id": "f6a0caa4-184d-46e4-9369-4d9599573966",
   "metadata": {},
   "source": [
    "**27. Given a list of numbers, calculate the moving average over a specified window size and store the results in a new list.**"
   ]
  },
  {
   "cell_type": "code",
   "execution_count": 184,
   "id": "bf4e7ef5-4a0d-4ab8-9c09-a561a65754d1",
   "metadata": {},
   "outputs": [
    {
     "name": "stdin",
     "output_type": "stream",
     "text": [
      "Enter numbers seperated by spaces:  34 5 22 98 76 109 22 33 2\n",
      "Enter window size:  3\n"
     ]
    },
    {
     "name": "stdout",
     "output_type": "stream",
     "text": [
      "\n",
      "20.33\n",
      "41.67\n",
      "65.33\n",
      "94.33\n",
      "69.00\n",
      "54.67\n",
      "19.00\n"
     ]
    }
   ],
   "source": [
    "nums = input(\"Enter numbers seperated by spaces: \")\n",
    "li = nums.split()\n",
    "l = []\n",
    "for num in li:\n",
    "    l.append(int(num))\n",
    "    \n",
    "w = int(input(\"Enter window size: \"))    \n",
    "print()\n",
    "\n",
    "for i in range(0, len(l) - w + 1): # (0, 1)\n",
    "    a = l[0 + i:w + i]\n",
    "    s = 0\n",
    "    for i in a:\n",
    "        s += i\n",
    "        ans = s / w\n",
    "    print(\"{:.2f}\".format(ans))"
   ]
  },
  {
   "cell_type": "markdown",
   "id": "8b4ee43c-d336-4f14-b5c5-c7fe0301f3cd",
   "metadata": {},
   "source": [
    "**28. Given a list of integers, identify and create a list of tuples representing consecutive sequences.**"
   ]
  },
  {
   "cell_type": "code",
   "execution_count": 317,
   "id": "023e6921-af58-4292-bd16-e031c9da1d55",
   "metadata": {},
   "outputs": [
    {
     "name": "stdout",
     "output_type": "stream",
     "text": [
      "[(2, 3, 4), (2, 3), (5, 6, 7, 8, 9)]\n"
     ]
    }
   ],
   "source": [
    "l = [2, 3, 4, 1, 9, 8, 7, 5, 2, 3, 1, 5, 6, 7, 8, 9]\n",
    "\n",
    "fin = []\n",
    "temp = [l[0]]\n",
    "\n",
    "for i in range(1, len(l)):\n",
    "    if l[i] == l[i - 1] + 1:\n",
    "        temp.append(l[i])\n",
    "    else:\n",
    "        if len(temp) > 1:\n",
    "            fin.append(tuple(temp))\n",
    "        temp = [l[i]]\n",
    "        \n",
    "if len(temp) > 1:\n",
    "    fin.append(tuple(temp))\n",
    "\n",
    "print(fin)"
   ]
  }
 ],
 "metadata": {
  "kernelspec": {
   "display_name": "Python 3 (ipykernel)",
   "language": "python",
   "name": "python3"
  },
  "language_info": {
   "codemirror_mode": {
    "name": "ipython",
    "version": 3
   },
   "file_extension": ".py",
   "mimetype": "text/x-python",
   "name": "python",
   "nbconvert_exporter": "python",
   "pygments_lexer": "ipython3",
   "version": "3.12.4"
  }
 },
 "nbformat": 4,
 "nbformat_minor": 5
}
