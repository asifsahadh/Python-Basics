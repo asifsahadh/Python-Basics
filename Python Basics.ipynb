{
 "cells": [
  {
   "cell_type": "markdown",
   "metadata": {},
   "source": [
    "## Python Basics"
   ]
  },
  {
   "cell_type": "markdown",
   "metadata": {},
   "source": [
    "**1. Identifiers and Variables**"
   ]
  },
  {
   "cell_type": "code",
   "execution_count": 35,
   "metadata": {},
   "outputs": [
    {
     "name": "stdin",
     "output_type": "stream",
     "text": [
      "Enter you Name:  Asif\n",
      "Enter you Age:  22\n",
      "Enter your Salary:  500000\n"
     ]
    },
    {
     "name": "stdout",
     "output_type": "stream",
     "text": [
      "\n",
      "My Name is Asif. I am 22 years old. My Salary is 500000 Rupees.\n"
     ]
    }
   ],
   "source": [
    "name = str(input(\"Enter you Name: \"))\n",
    "age = int(input(\"Enter you Age: \"))\n",
    "salary = int(input(\"Enter your Salary: \"))\n",
    "print(\"\\nMy Name is {}. I am {} years old. My Salary is {} Rupees.\".format(name, age, salary))"
   ]
  },
  {
   "cell_type": "markdown",
   "metadata": {},
   "source": [
    "**2. Arithmetic Operators**"
   ]
  },
  {
   "cell_type": "code",
   "execution_count": 3,
   "metadata": {},
   "outputs": [
    {
     "name": "stdin",
     "output_type": "stream",
     "text": [
      "Enter the First Number:  25\n",
      "Enter the Second Number:  35\n"
     ]
    },
    {
     "name": "stdout",
     "output_type": "stream",
     "text": [
      "\n",
      "The Sum is 60, the Difference is -10, the Product is 875, and the Quotient is 0.71\n"
     ]
    }
   ],
   "source": [
    "n1 = int(input(\"Enter the First Number: \"))\n",
    "n2 = int(input(\"Enter the Second Number: \"))\n",
    "a, s, m, d = n1 + n2, n1 - n2, n1 * n2, n1 / n2\n",
    "print(\"\\nThe Sum is {}, the Difference is {}, the Product is {}, and the Quotient is {}\".format(a, s, m, round(d, 2)))"
   ]
  },
  {
   "cell_type": "markdown",
   "metadata": {},
   "source": [
    "**3. Relational Operators**"
   ]
  },
  {
   "cell_type": "code",
   "execution_count": 36,
   "metadata": {},
   "outputs": [
    {
     "name": "stdin",
     "output_type": "stream",
     "text": [
      "Enter the 1st Number:  10\n",
      "Enter the 2nd Number:  5\n"
     ]
    },
    {
     "name": "stdout",
     "output_type": "stream",
     "text": [
      "\n",
      "10 is greater than 5: True\n",
      "10 is lesser than 5: False\n",
      "10 is greater than or equal to 5: True\n",
      "10 is lesser than or equal to 5: False\n",
      "10 is equal to 5: False\n",
      "10 is not equal to 5: True\n"
     ]
    }
   ],
   "source": [
    "n1 = int(input(\"Enter the 1st Number: \"))\n",
    "n2 = int(input(\"Enter the 2nd Number: \"))\n",
    "greater, lesser, greater_equal, lesser_equal, equal, not_equal = n1 > n2, n1 < n2, n1 >= n2, n1 <= n2, n1 == n2, n1 != n2\n",
    "print(\"\\n{} is greater than {}: {}\".format(n1, n2, greater))\n",
    "print(\"{} is lesser than {}: {}\".format(n1, n2, lesser))\n",
    "print(\"{} is greater than or equal to {}: {}\".format(n1, n2, greater_equal))\n",
    "print(\"{} is lesser than or equal to {}: {}\".format(n1, n2, lesser_equal))\n",
    "print(\"{} is equal to {}: {}\".format(n1, n2, equal))\n",
    "print(\"{} is not equal to {}: {}\".format(n1, n2, not_equal))"
   ]
  },
  {
   "cell_type": "markdown",
   "metadata": {},
   "source": [
    "**4. Logical Operators**"
   ]
  },
  {
   "cell_type": "code",
   "execution_count": 43,
   "metadata": {},
   "outputs": [
    {
     "name": "stdin",
     "output_type": "stream",
     "text": [
      "Enter the 1st Number (x):  12\n",
      "Enter the 2nd Number (y):  2\n"
     ]
    },
    {
     "name": "stdout",
     "output_type": "stream",
     "text": [
      "\n",
      "The Condition x > 10 ans y < 5 is Satisfied\n"
     ]
    }
   ],
   "source": [
    "x = int(input(\"Enter the 1st Number (x): \"))\n",
    "y = int(input(\"Enter the 2nd Number (y): \"))\n",
    "if x > 10 and y < 5:\n",
    "    print(\"\\nThe Condition x > 10 ans y < 5 is Satisfied\")\n",
    "else:\n",
    "    print(\"\\nThe Condition x > 10 ans y < 5 is NOT Satisfied\")"
   ]
  },
  {
   "cell_type": "markdown",
   "metadata": {},
   "source": [
    "**5. Bitwise Operators**"
   ]
  },
  {
   "cell_type": "code",
   "execution_count": 44,
   "metadata": {},
   "outputs": [
    {
     "name": "stdin",
     "output_type": "stream",
     "text": [
      "Enter the 1st Number:  20\n",
      "Enter the 2nd Number:  11\n"
     ]
    },
    {
     "name": "stdout",
     "output_type": "stream",
     "text": [
      "\n",
      "AND: 0b1011\n",
      "OR: 0b10100\n",
      "XOR: 31\n"
     ]
    }
   ],
   "source": [
    "x = int(input(\"Enter the 1st Number: \"))\n",
    "y = int(input(\"Enter the 2nd Number: \"))\n",
    "xbin = bin(x)\n",
    "ybin = bin(y)\n",
    "print(\"\\nAND: {}\".format(xbin and ybin))\n",
    "print(\"OR: {}\".format(xbin or ybin))\n",
    "print(\"XOR: {}\".format(x ^ y))"
   ]
  },
  {
   "cell_type": "markdown",
   "metadata": {},
   "source": [
    "**6. Assignment Operators**"
   ]
  },
  {
   "cell_type": "code",
   "execution_count": 19,
   "metadata": {},
   "outputs": [
    {
     "name": "stdout",
     "output_type": "stream",
     "text": [
      "+= -> 7\n",
      "-= -> 3\n",
      "*= -> 10\n",
      "/= -> 2.5\n"
     ]
    }
   ],
   "source": [
    "x = 5\n",
    "x += 2\n",
    "print(\"+= ->\", x)\n",
    "\n",
    "x = 5\n",
    "x -= 2\n",
    "print(\"-= ->\", x)\n",
    "\n",
    "x = 5\n",
    "x *= 2\n",
    "print(\"*= ->\", x)\n",
    "\n",
    "x = 5\n",
    "x /= 2\n",
    "print(\"/= ->\", x)"
   ]
  },
  {
   "cell_type": "markdown",
   "metadata": {},
   "source": [
    "**7. Membership Operators**"
   ]
  },
  {
   "cell_type": "code",
   "execution_count": 26,
   "metadata": {},
   "outputs": [
    {
     "name": "stdout",
     "output_type": "stream",
     "text": [
      "2 is in [1, 2, 3, 4, 5]: True\n",
      "10 is not in [1, 2, 3, 4, 5]: True\n"
     ]
    }
   ],
   "source": [
    "l = [1, 2, 3, 4, 5]\n",
    "a = 2\n",
    "b = 10\n",
    "ans1 = a in l\n",
    "ans2 = b not in l\n",
    "print(\"{} is in {}: {}\".format(a, l, ans1))\n",
    "print(\"{} is not in {}: {}\".format(b, l, ans2))"
   ]
  },
  {
   "cell_type": "markdown",
   "metadata": {},
   "source": [
    "**8. Identity Operators**"
   ]
  },
  {
   "cell_type": "code",
   "execution_count": 47,
   "metadata": {},
   "outputs": [
    {
     "name": "stdout",
     "output_type": "stream",
     "text": [
      "5 is 5: True\n",
      "5 is not 6: True\n"
     ]
    }
   ],
   "source": [
    "a = b = 5\n",
    "c = 6\n",
    "print(\"{} is {}:\".format(a, b), a is b)\n",
    "print(\"{} is not {}:\".format(a, c), a is not c)"
   ]
  },
  {
   "cell_type": "markdown",
   "metadata": {},
   "source": [
    "**9. If-Conditional Statement**"
   ]
  },
  {
   "cell_type": "code",
   "execution_count": 5,
   "metadata": {},
   "outputs": [
    {
     "name": "stdin",
     "output_type": "stream",
     "text": [
      "Enter Number:  99\n"
     ]
    },
    {
     "name": "stdout",
     "output_type": "stream",
     "text": [
      "\n",
      "Positive\n"
     ]
    }
   ],
   "source": [
    "n = int(input(\"Enter Number: \"))\n",
    "if n > 0:\n",
    "    print(\"\\nPositive\")\n",
    "else:\n",
    "    print(\"\\nNegative\")"
   ]
  },
  {
   "cell_type": "markdown",
   "metadata": {},
   "source": [
    "**10. If-Else Statement**"
   ]
  },
  {
   "cell_type": "code",
   "execution_count": 6,
   "metadata": {},
   "outputs": [
    {
     "name": "stdin",
     "output_type": "stream",
     "text": [
      "Enter Number:  -99\n"
     ]
    },
    {
     "name": "stdout",
     "output_type": "stream",
     "text": [
      "\n",
      "-99 is Negative\n"
     ]
    }
   ],
   "source": [
    "n = int(input(\"Enter Number: \"))\n",
    "if n == 0:\n",
    "    print(\"\\n{} is 0\".format(n))\n",
    "elif n > 0:\n",
    "    print(\"\\n{} is Positive\".format(n))\n",
    "elif n < 0:\n",
    "    print(\"\\n{} is Negative\".format(n))"
   ]
  },
  {
   "cell_type": "markdown",
   "metadata": {},
   "source": [
    "**11. If-Elif-Else Statement**"
   ]
  },
  {
   "cell_type": "code",
   "execution_count": 7,
   "metadata": {},
   "outputs": [
    {
     "name": "stdin",
     "output_type": "stream",
     "text": [
      "Enter your Score:  88\n"
     ]
    },
    {
     "name": "stdout",
     "output_type": "stream",
     "text": [
      "\n",
      "Your Grade is B\n"
     ]
    }
   ],
   "source": [
    "score = int(input(\"Enter your Score: \"))\n",
    "if score >= 90 and score <= 100:\n",
    "    print(\"\\nYour Grade is A\")\n",
    "elif score >= 80 and score < 90:\n",
    "    print(\"\\nYour Grade is B\")\n",
    "elif score >= 70 and score < 80:\n",
    "    print(\"\\nYour Grade is C\")\n",
    "elif score >= 60 and score < 70:\n",
    "    print(\"\\nYour Grade is D\")\n",
    "elif score >= 50 and score < 60:\n",
    "    print(\"\\nYour Grade is E\")\n",
    "elif score < 49:\n",
    "    print(\"\\nYour Grade is F\")\n",
    "else:\n",
    "    print(\"\\nInvalid Input!\")"
   ]
  },
  {
   "cell_type": "markdown",
   "metadata": {},
   "source": [
    "**12. For Loop**"
   ]
  },
  {
   "cell_type": "code",
   "execution_count": 17,
   "metadata": {},
   "outputs": [
    {
     "name": "stdout",
     "output_type": "stream",
     "text": [
      "1\n",
      "2\n",
      "3\n",
      "4\n",
      "5\n",
      "6\n",
      "7\n",
      "8\n",
      "9\n",
      "10\n"
     ]
    }
   ],
   "source": [
    "for i in range(1, 11):\n",
    "    print(i)"
   ]
  },
  {
   "cell_type": "markdown",
   "metadata": {},
   "source": [
    "**13. While Loop**"
   ]
  },
  {
   "cell_type": "code",
   "execution_count": 22,
   "metadata": {},
   "outputs": [
    {
     "name": "stdout",
     "output_type": "stream",
     "text": [
      "1\n",
      "2\n",
      "3\n",
      "4\n",
      "5\n"
     ]
    }
   ],
   "source": [
    "n = 1\n",
    "while n <= 5:\n",
    "    print (n)\n",
    "    n += 1"
   ]
  },
  {
   "cell_type": "markdown",
   "metadata": {},
   "source": [
    "**14. Break Statement**"
   ]
  },
  {
   "cell_type": "code",
   "execution_count": 37,
   "metadata": {},
   "outputs": [
    {
     "name": "stdout",
     "output_type": "stream",
     "text": [
      "20\n",
      "21\n",
      "22\n",
      "23\n",
      "24\n",
      "25\n",
      "26\n"
     ]
    }
   ],
   "source": [
    "for i in range(20, 31):\n",
    "    if i == 27:\n",
    "        break\n",
    "    print(i)"
   ]
  },
  {
   "cell_type": "markdown",
   "metadata": {},
   "source": [
    "**15. Continue Statement**"
   ]
  },
  {
   "cell_type": "code",
   "execution_count": 42,
   "metadata": {},
   "outputs": [
    {
     "name": "stdout",
     "output_type": "stream",
     "text": [
      "20\n",
      "21\n",
      "22\n",
      "23\n",
      "24\n",
      "25\n",
      "26\n",
      "28\n",
      "29\n",
      "30\n"
     ]
    }
   ],
   "source": [
    "for i in range(20, 31):\n",
    "    if i == 27:\n",
    "        continue\n",
    "    print(i)"
   ]
  },
  {
   "cell_type": "markdown",
   "metadata": {},
   "source": [
    "**16. Pass Statement**"
   ]
  },
  {
   "cell_type": "code",
   "execution_count": 45,
   "metadata": {},
   "outputs": [
    {
     "name": "stdout",
     "output_type": "stream",
     "text": [
      "20\n",
      "21\n",
      "22\n",
      "23\n",
      "24\n",
      "25\n",
      "26\n",
      "28\n",
      "29\n",
      "30\n"
     ]
    }
   ],
   "source": [
    "for i in range(20, 31):\n",
    "    if i == 27:\n",
    "        pass\n",
    "    else:\n",
    "        print(i)"
   ]
  },
  {
   "cell_type": "markdown",
   "metadata": {},
   "source": [
    "**17. Nested If**"
   ]
  },
  {
   "cell_type": "code",
   "execution_count": 55,
   "metadata": {},
   "outputs": [
    {
     "name": "stdin",
     "output_type": "stream",
     "text": [
      "Enter Number:  -6\n"
     ]
    },
    {
     "name": "stdout",
     "output_type": "stream",
     "text": [
      "\n",
      "-6 is Even, but not Positive\n"
     ]
    }
   ],
   "source": [
    "n = int(input(\"Enter Number: \"))\n",
    "if n > 0:\n",
    "    if n % 2 == 0:\n",
    "        print(\"\\n{} is Even and Positive\".format(n))\n",
    "    else:\n",
    "        print(\"\\n{} is Positive but not Even\".format(n))\n",
    "elif n < 0:\n",
    "    if n % 2 == 0:\n",
    "        print(\"\\n{} is Even, but not Positive\".format(n))\n",
    "    else:\n",
    "        print(\"\\n{} is neitehr Positive nor Even\".format(n))\n",
    "else:\n",
    "    print(\"\\n{} is neitehr Positive nor Even\".format(n))"
   ]
  },
  {
   "cell_type": "markdown",
   "metadata": {},
   "source": [
    "**18. Nested Loops**"
   ]
  },
  {
   "cell_type": "code",
   "execution_count": 56,
   "metadata": {},
   "outputs": [
    {
     "name": "stdout",
     "output_type": "stream",
     "text": [
      "6 * 0 = 0\n",
      "6 * 1 = 6\n",
      "6 * 2 = 12\n",
      "6 * 3 = 18\n",
      "6 * 4 = 24\n",
      "6 * 5 = 30\n",
      "6 * 6 = 36\n",
      "6 * 7 = 42\n",
      "6 * 8 = 48\n",
      "6 * 9 = 54\n",
      "6 * 10 = 60\n"
     ]
    }
   ],
   "source": [
    "n = 6\n",
    "r = 10\n",
    "for num in range(n, n + 1):\n",
    "    for i in range(r + 1):\n",
    "        print(f\"{num} * {i} = {num * i}\")"
   ]
  },
  {
   "cell_type": "markdown",
   "metadata": {},
   "source": [
    "**19. Elif Branching**"
   ]
  },
  {
   "cell_type": "code",
   "execution_count": 60,
   "metadata": {},
   "outputs": [
    {
     "name": "stdin",
     "output_type": "stream",
     "text": [
      "Enter Number:  6\n"
     ]
    },
    {
     "name": "stdout",
     "output_type": "stream",
     "text": [
      "\n",
      "It's Friday!\n"
     ]
    }
   ],
   "source": [
    "d = int(input(\"Enter Number: \"))\n",
    "if d == 1:\n",
    "    print(\"\\nIt's Sunday!\")\n",
    "elif d == 2:\n",
    "    print(\"\\nIt's Monday!\")\n",
    "elif d == 3:\n",
    "    print(\"\\nIt's Tuesday!\")\n",
    "elif d == 4:\n",
    "    print(\"\\nIt's Wednesday!\")\n",
    "elif d == 5:\n",
    "    print(\"\\nIt's Thursday!\")\n",
    "elif d == 6:\n",
    "    print(\"\\nIt's Friday!\")\n",
    "elif d == 7:\n",
    "    print(\"\\nIt's Saturday!\")\n",
    "else:\n",
    "    print(\"\\nInvalid Input!\")"
   ]
  },
  {
   "cell_type": "markdown",
   "metadata": {},
   "source": [
    "**20. Simple Calculator**"
   ]
  },
  {
   "cell_type": "code",
   "execution_count": 64,
   "metadata": {},
   "outputs": [
    {
     "name": "stdin",
     "output_type": "stream",
     "text": [
      "Enter First Number:  5\n",
      "Enter Second Number:  6\n",
      "Enter Operator (+, -, *, /):  +\n"
     ]
    },
    {
     "name": "stdout",
     "output_type": "stream",
     "text": [
      "\n",
      "11\n"
     ]
    }
   ],
   "source": [
    "n1 = int(input(\"Enter First Number: \"))\n",
    "n2 = int(input(\"Enter Second Number: \"))\n",
    "op = input(\"Enter Operator (+, -, *, /): \")\n",
    "if op == \"+\":\n",
    "    print(f\"\\n{n1 + n2}\")\n",
    "elif op == \"-\":\n",
    "    print(f\"\\n{n1 - n2}\")\n",
    "elif op == \"*\":\n",
    "    print(f\"\\n{n1 * n2}\")\n",
    "elif op == \"/\":\n",
    "    print(f\"\\n{n1 / n2}\")\n",
    "else:\n",
    "    print(\"Invalid Operator!\")"
   ]
  },
  {
   "cell_type": "markdown",
   "metadata": {},
   "source": [
    "**21. Sum of Natural Numbers Using a For Loop**"
   ]
  },
  {
   "cell_type": "code",
   "execution_count": 65,
   "metadata": {},
   "outputs": [
    {
     "name": "stdin",
     "output_type": "stream",
     "text": [
      "Enter Number:  9\n"
     ]
    },
    {
     "name": "stdout",
     "output_type": "stream",
     "text": [
      "\n",
      "The sum of first 9 natural numbers is 45\n"
     ]
    }
   ],
   "source": [
    "n = int(input(\"Enter Number: \"))\n",
    "s = 0\n",
    "for i in range(n + 1):\n",
    "    s += i\n",
    "print(\"\\nThe sum of first {} natural numbers is {}\".format(n, s))"
   ]
  },
  {
   "cell_type": "markdown",
   "metadata": {},
   "source": [
    "**22. Factorial Calculation Using a While Loop**"
   ]
  },
  {
   "cell_type": "code",
   "execution_count": 67,
   "metadata": {},
   "outputs": [
    {
     "name": "stdin",
     "output_type": "stream",
     "text": [
      "Enter a Non-Negative Integer:  6\n"
     ]
    },
    {
     "name": "stdout",
     "output_type": "stream",
     "text": [
      "\n",
      "The Factorial of 6 is 720\n"
     ]
    }
   ],
   "source": [
    "n = int(input(\"Enter a Non-Negative Integer: \"))\n",
    "c = 1\n",
    "f = 1\n",
    "while c <= n:\n",
    "    f *= c\n",
    "    c += 1\n",
    "print(f\"\\nThe Factorial of {n} is {f}\")"
   ]
  },
  {
   "cell_type": "markdown",
   "metadata": {},
   "source": [
    "**23. Display Multiples of a Number Using a For Loop**"
   ]
  },
  {
   "cell_type": "code",
   "execution_count": 73,
   "metadata": {},
   "outputs": [
    {
     "name": "stdin",
     "output_type": "stream",
     "text": [
      "Enter Number:  2\n",
      "Enter number of Multiples:  3\n"
     ]
    },
    {
     "name": "stdout",
     "output_type": "stream",
     "text": [
      "\n",
      "2\n",
      "4\n",
      "6\n"
     ]
    }
   ],
   "source": [
    "n = int(input(\"Enter Number: \"))\n",
    "m = int(input(\"Enter number of Multiples: \")) \n",
    "print()\n",
    "for i in range(1, m + 1):\n",
    "    print(n * i)"
   ]
  },
  {
   "cell_type": "markdown",
   "metadata": {},
   "source": [
    "**24. Reverse a String Using a While Loop**"
   ]
  },
  {
   "cell_type": "code",
   "execution_count": 69,
   "metadata": {},
   "outputs": [
    {
     "name": "stdin",
     "output_type": "stream",
     "text": [
      "Enter a String:  Python\n"
     ]
    },
    {
     "name": "stdout",
     "output_type": "stream",
     "text": [
      "\n",
      "Reveresed String is nohtyP\n"
     ]
    }
   ],
   "source": [
    "s = str(input(\"Enter a String: \"))\n",
    "rev = \"\"\n",
    "a = 1\n",
    "b = 0\n",
    "while a <= len(s):\n",
    "    b = s[len(s) - a]\n",
    "    rev += b\n",
    "    a += 1\n",
    "print(\"\\nReveresed String is {}\".format(rev))"
   ]
  },
  {
   "cell_type": "markdown",
   "metadata": {},
   "source": [
    "**25. Find Prime Numbers Within a Range Using Nested Loops** "
   ]
  },
  {
   "cell_type": "code",
   "execution_count": 44,
   "metadata": {},
   "outputs": [
    {
     "name": "stdin",
     "output_type": "stream",
     "text": [
      "Enter First Number:  5\n",
      "Enter Last Number:  20\n"
     ]
    },
    {
     "name": "stdout",
     "output_type": "stream",
     "text": [
      "[5, 7, 11, 13, 17, 19]\n"
     ]
    }
   ],
   "source": [
    "a = int(input(\"Enter First Number: \"))\n",
    "b = int(input(\"Enter Last Number: \"))\n",
    "\n",
    "# sieve of eratosthenes method\n",
    "\n",
    "prime = [True for i in range(b + 1)]\n",
    "p = 2\n",
    "\n",
    "while p * p <= b:\n",
    "    if prime[p]:\n",
    "        for i in range(p * p, b + 1, p):\n",
    "            prime[i] = False\n",
    "    p += 1\n",
    "    \n",
    "prime_numbers = []\n",
    "for p in range(a, b + 1):\n",
    "    if prime[p]:\n",
    "        prime_numbers.append(p)\n",
    "\n",
    "# to remove 0 and 1\n",
    "\n",
    "final = []\n",
    "\n",
    "for num in prime_numbers:\n",
    "    if num == 0:\n",
    "        continue\n",
    "    elif num == 1:\n",
    "        continue\n",
    "    else:\n",
    "        final.append(num)\n",
    "\n",
    "print(final)"
   ]
  },
  {
   "cell_type": "markdown",
   "metadata": {},
   "source": [
    "**26. Generate a Pattern Using Nested For Loops**"
   ]
  },
  {
   "cell_type": "code",
   "execution_count": 74,
   "metadata": {},
   "outputs": [
    {
     "name": "stdin",
     "output_type": "stream",
     "text": [
      "Enter Number of Rows:  6\n"
     ]
    },
    {
     "name": "stdout",
     "output_type": "stream",
     "text": [
      "\n",
      "*\n",
      "**\n",
      "***\n",
      "****\n",
      "*****\n",
      "******\n"
     ]
    }
   ],
   "source": [
    "n = int(input(\"Enter Number of Rows: \"))\n",
    "print()\n",
    "for i in range(1, n + 1):\n",
    "    for j in range(1, i + 1):\n",
    "        print(\"*\", end = \"\")\n",
    "    print()"
   ]
  },
  {
   "cell_type": "markdown",
   "metadata": {},
   "source": [
    "**27. Calculate the Average of Numbers Using a While Loop**"
   ]
  },
  {
   "cell_type": "code",
   "execution_count": 77,
   "metadata": {},
   "outputs": [
    {
     "name": "stdin",
     "output_type": "stream",
     "text": [
      "Enter Number of Numbers you want to Input:  5\n",
      "Enter Number:  10\n",
      "Enter Number:  22\n",
      "Enter Number:  11\n",
      "Enter Number:  23\n",
      "Enter Number:  32\n"
     ]
    },
    {
     "name": "stdout",
     "output_type": "stream",
     "text": [
      "\n",
      "19.6\n"
     ]
    }
   ],
   "source": [
    "p = int(input(\"Enter Number of Numbers you want to Input: \"))\n",
    "_sum = count = 0\n",
    "while count < p:\n",
    "    n = int(input(\"Enter Number: \"))\n",
    "    _sum += n\n",
    "    count += 1\n",
    "avg = _sum / p\n",
    "print()\n",
    "print(avg)"
   ]
  },
  {
   "cell_type": "markdown",
   "metadata": {},
   "source": [
    "**28. Display Fibonacci Series Using a For Loop**"
   ]
  },
  {
   "cell_type": "code",
   "execution_count": 10,
   "metadata": {},
   "outputs": [
    {
     "name": "stdin",
     "output_type": "stream",
     "text": [
      "Enter Number:  8\n"
     ]
    },
    {
     "name": "stdout",
     "output_type": "stream",
     "text": [
      "\n",
      "0\n",
      "1\n",
      "1\n",
      "2\n",
      "3\n",
      "5\n",
      "8\n",
      "13\n"
     ]
    }
   ],
   "source": [
    "n = int(input(\"Enter Number: \"))\n",
    "print()\n",
    "a = 0\n",
    "b = 1\n",
    "for i in range(n): \n",
    "    print(a)\n",
    "    next_num = a + b\n",
    "    a = b\n",
    "    b = next_num"
   ]
  },
  {
   "cell_type": "markdown",
   "metadata": {},
   "source": [
    "**29. Find the Largest Number in a List Using a While Loop**"
   ]
  },
  {
   "cell_type": "code",
   "execution_count": 96,
   "metadata": {},
   "outputs": [
    {
     "name": "stdin",
     "output_type": "stream",
     "text": [
      "Enter Numbers Seperated by Spaces:  3 6 2 8 9 6 7 5 2\n"
     ]
    },
    {
     "name": "stdout",
     "output_type": "stream",
     "text": [
      "\n",
      "9\n"
     ]
    }
   ],
   "source": [
    "s = str(input(\"Enter Numbers Seperated by Spaces: \"))\n",
    "nums = list(map(int, s.split()))\n",
    "max_num = nums[0]\n",
    "i = 1\n",
    "while i < len(nums):\n",
    "    if nums[i] > max_num:\n",
    "        max_num = nums[i]\n",
    "    i += 1\n",
    "print()\n",
    "print(max_num)"
   ]
  },
  {
   "cell_type": "markdown",
   "metadata": {},
   "source": [
    "**30. Count Vowels in a String Using a For Loop**"
   ]
  },
  {
   "cell_type": "code",
   "execution_count": 87,
   "metadata": {},
   "outputs": [
    {
     "name": "stdin",
     "output_type": "stream",
     "text": [
      "Enter a String:  Algebra\n"
     ]
    },
    {
     "name": "stdout",
     "output_type": "stream",
     "text": [
      "\n",
      "There are 3 Vowels in the String\n"
     ]
    }
   ],
   "source": [
    "s = str(input(\"Enter a String: \"))\n",
    "c = 0\n",
    "for char in s:\n",
    "    if char in \"aeiouAEIOU\":\n",
    "        c += 1\n",
    "print(f\"\\nThere are {c} Vowels in the String\")"
   ]
  }
 ],
 "metadata": {
  "kernelspec": {
   "display_name": "Python 3 (ipykernel)",
   "language": "python",
   "name": "python3"
  },
  "language_info": {
   "codemirror_mode": {
    "name": "ipython",
    "version": 3
   },
   "file_extension": ".py",
   "mimetype": "text/x-python",
   "name": "python",
   "nbconvert_exporter": "python",
   "pygments_lexer": "ipython3",
   "version": "3.12.4"
  }
 },
 "nbformat": 4,
 "nbformat_minor": 4
}
