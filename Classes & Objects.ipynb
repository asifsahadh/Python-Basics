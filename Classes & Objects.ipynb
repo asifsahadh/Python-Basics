{
 "cells": [
  {
   "cell_type": "markdown",
   "id": "5ce90f0a-8e77-42d0-90f9-1f2f9880dcdb",
   "metadata": {},
   "source": [
    "## Classes & Objects"
   ]
  },
  {
   "cell_type": "markdown",
   "id": "c64bdab6-41fd-4425-bfba-c919634cb477",
   "metadata": {},
   "source": [
    "**1. Create a class Book with attributes title and author. Define a method display() to print the title and author of the book**"
   ]
  },
  {
   "cell_type": "code",
   "execution_count": 118,
   "id": "3e89fa40-80c7-4dfc-90a4-d0d2e8debc83",
   "metadata": {},
   "outputs": [],
   "source": [
    "class Book():\n",
    "\n",
    "    def __init__(self, title, author):\n",
    "        self.title = title\n",
    "        self.author = author\n",
    "\n",
    "    def display(self):\n",
    "        print(f\"The title of the book is {self.title} and its author is {self.author}.\")"
   ]
  },
  {
   "cell_type": "code",
   "execution_count": 119,
   "id": "dc95db25-a818-4667-a23a-ebacbc7690a5",
   "metadata": {},
   "outputs": [
    {
     "name": "stdout",
     "output_type": "stream",
     "text": [
      "The title of the book is To Kill a Mocking Bird and its author is Harper Lee.\n"
     ]
    }
   ],
   "source": [
    "tkamb = Book(\"To Kill a Mocking Bird\", \"Harper Lee\")\n",
    "tkamb.display()"
   ]
  },
  {
   "cell_type": "markdown",
   "id": "e7b425b1-0b3d-48f1-9c99-363cea015979",
   "metadata": {},
   "source": [
    "**2. Write a class Circle that takes radius as an argument. Define methods to calculate the area and circumference of the circle.**"
   ]
  },
  {
   "cell_type": "code",
   "execution_count": 103,
   "id": "5079ce7f-9b00-4312-95ea-c235e9b677c0",
   "metadata": {},
   "outputs": [],
   "source": [
    "class Circle():\n",
    "\n",
    "    def __init__(self, radius):\n",
    "        self.radius = radius\n",
    "\n",
    "    def area(self):\n",
    "        area = (22/7) * self.radius ** 2\n",
    "        print(\"Area = {:.2f}\".format(area))\n",
    "\n",
    "    def circumference(self):\n",
    "        circumference = 2 * (22/7) * self.radius\n",
    "        print(\"Circumference = {:.2f}\".format(circumference))"
   ]
  },
  {
   "cell_type": "code",
   "execution_count": 106,
   "id": "5104a427-faaa-4dbc-9038-78b7223c789c",
   "metadata": {},
   "outputs": [
    {
     "name": "stdout",
     "output_type": "stream",
     "text": [
      "Area = 8828.29\n",
      "Circumference = 333.14\n"
     ]
    }
   ],
   "source": [
    "circle1 = Circle(53)\n",
    "circle1.area()\n",
    "circle1.circumference()"
   ]
  },
  {
   "cell_type": "markdown",
   "id": "2ab540ef-e80d-4f7f-9c75-e0e7ba2b33c3",
   "metadata": {},
   "source": [
    "**3. Create a class Car with attributes make, model, and year (default to 2020). Define a method to display the car's information.**"
   ]
  },
  {
   "cell_type": "code",
   "execution_count": 109,
   "id": "2e2aeb87-3071-44f1-b43a-54fe05701ba9",
   "metadata": {},
   "outputs": [],
   "source": [
    "class Car():\n",
    "\n",
    "    def __init__(self, make, model, year = 2020):\n",
    "        self.make = make\n",
    "        self.model = model\n",
    "        self.year = year\n",
    "\n",
    "    def display(self):\n",
    "        print(f\"The make of the car is {self.make}. Its model is {self.model}. Its model year is {self.year}.\")"
   ]
  },
  {
   "cell_type": "code",
   "execution_count": 112,
   "id": "ec40e6ba-5fe5-4108-91cd-7cef5c5b6bdf",
   "metadata": {},
   "outputs": [
    {
     "name": "stdout",
     "output_type": "stream",
     "text": [
      "The make of the car is Nissan. Its model is GTR. Its model year is 2002.\n"
     ]
    }
   ],
   "source": [
    "car1 = Car(\"Nissan\", \"GTR\", 2002)\n",
    "car1.display()"
   ]
  },
  {
   "cell_type": "markdown",
   "id": "b69c35bc-de6c-4161-b764-8ccff8f66fcd",
   "metadata": {},
   "source": [
    "**4. Write a class Employee with name and salary attributes. Implement the __repr__ method to display the employee's name and salary in a readable format.**"
   ]
  },
  {
   "cell_type": "code",
   "execution_count": 116,
   "id": "c2e6e2ad-3775-49f9-a533-020ee2bab43e",
   "metadata": {},
   "outputs": [],
   "source": [
    "class Employee():\n",
    "\n",
    "    def __init__(self, name, salary):\n",
    "        self.name = name\n",
    "        self.salary = salary\n",
    "\n",
    "    def __repr__(self):\n",
    "        return f\"The name of the employee is {self.name} and their salary is {self.salary}.\""
   ]
  },
  {
   "cell_type": "code",
   "execution_count": 117,
   "id": "a27689b5-71db-4bf6-acaf-052875d3ee87",
   "metadata": {},
   "outputs": [
    {
     "data": {
      "text/plain": [
       "The name of the employee is Asif and their salary is 100000."
      ]
     },
     "execution_count": 117,
     "metadata": {},
     "output_type": "execute_result"
    }
   ],
   "source": [
    "emp1 = Employee(\"Asif\", 100000)\n",
    "emp1"
   ]
  },
  {
   "cell_type": "markdown",
   "id": "c17f741a-d71d-4106-8f2d-7c21c3836df0",
   "metadata": {},
   "source": [
    "**5. Define a class BankAccount with account_number and balance. Add a method to deposit and another to withdraw an amount (both methods should update the balance).**"
   ]
  },
  {
   "cell_type": "code",
   "execution_count": 152,
   "id": "59906d3e-a3f0-4d6c-9495-128d417ed43d",
   "metadata": {},
   "outputs": [],
   "source": [
    "class BankAccount():\n",
    "    \n",
    "    def __init__(self, account_number, balance):\n",
    "        self.account_number = account_number\n",
    "        self.balance = balance\n",
    "\n",
    "    def deposit(self, amount):\n",
    "        self.balance += amount\n",
    "\n",
    "    def withdraw(self, amount):\n",
    "        self.balance -= amount"
   ]
  },
  {
   "cell_type": "code",
   "execution_count": 154,
   "id": "6c9a740b-490e-414e-ba2d-6756fc03dcbf",
   "metadata": {},
   "outputs": [
    {
     "data": {
      "text/plain": [
       "11500"
      ]
     },
     "execution_count": 154,
     "metadata": {},
     "output_type": "execute_result"
    }
   ],
   "source": [
    "ba1 = BankAccount(101, 12500)\n",
    "ba1.withdraw(1000)\n",
    "ba1.balance"
   ]
  },
  {
   "cell_type": "markdown",
   "id": "60f45578-55c1-41d8-a625-dc7ea538c5d3",
   "metadata": {},
   "source": [
    "**6. Create a Person class that takes name and age as parameters. Write a method to print name and age in a sentence.**"
   ]
  },
  {
   "cell_type": "code",
   "execution_count": 155,
   "id": "047bc078-2a1e-4c1f-9204-17a4fde7dc42",
   "metadata": {},
   "outputs": [],
   "source": [
    "class Person():\n",
    "\n",
    "    def __init__(self, name, age):\n",
    "        self.name = name\n",
    "        self.age = age\n",
    "\n",
    "    def display(self):\n",
    "        print(f\"The name of the person is {self.name}. Their age is {self.age}.\")"
   ]
  },
  {
   "cell_type": "code",
   "execution_count": 157,
   "id": "7ddabeb5-d515-4ae1-b2f4-ab02a7b85ca2",
   "metadata": {},
   "outputs": [
    {
     "name": "stdout",
     "output_type": "stream",
     "text": [
      "The name of the person is Farsha. Their age is 22.\n"
     ]
    }
   ],
   "source": [
    "p1 = Person(\"Farsha\", 22)\n",
    "p1.display()"
   ]
  },
  {
   "cell_type": "markdown",
   "id": "650f6855-28d7-48e9-a993-0d7ec7790297",
   "metadata": {},
   "source": [
    "**7. Write a Student class where name is a required attribute and grade is optional (default is \"Not Assigned\"). Define a method to display this information.**"
   ]
  },
  {
   "cell_type": "code",
   "execution_count": 160,
   "id": "8977aa96-b19a-48cc-b5ab-0f2c9bd747df",
   "metadata": {},
   "outputs": [],
   "source": [
    "class Student():\n",
    "\n",
    "    def __init__(self, name, grade = \"Not Assigned\"):\n",
    "        self.name = name\n",
    "        self.grade = grade\n",
    "\n",
    "    def display(self):\n",
    "        print(f\"The name of the person is {self.name}. Their grade is {self.grade}.\")"
   ]
  },
  {
   "cell_type": "code",
   "execution_count": 164,
   "id": "5975d5ba-9fcd-4255-b2e7-2a666aeb930e",
   "metadata": {},
   "outputs": [
    {
     "name": "stdout",
     "output_type": "stream",
     "text": [
      "The name of the person is Pranav. Their grade is Not Assigned.\n"
     ]
    }
   ],
   "source": [
    "p1 = Student(\"Pranav\")\n",
    "p1.display()"
   ]
  },
  {
   "cell_type": "markdown",
   "id": "cb0f93ec-4c1d-444e-9b92-e1ed77aaa886",
   "metadata": {},
   "source": [
    "**8. Create a class Student with instance attributes name and marks, and a class variable total_students to keep track of the total number of students.**"
   ]
  },
  {
   "cell_type": "code",
   "execution_count": 171,
   "id": "23fc194e-dd54-4d3d-bed9-67fda148f5a5",
   "metadata": {},
   "outputs": [],
   "source": [
    "class Student():\n",
    "\n",
    "    total_students = 0\n",
    "\n",
    "    def __init__(self, name, marks):\n",
    "        self.name = name\n",
    "        self.marks = marks\n",
    "        Student.total_students += 1"
   ]
  },
  {
   "cell_type": "code",
   "execution_count": 172,
   "id": "ca62b8c6-74b9-4791-89af-23a6d3ce7d5a",
   "metadata": {},
   "outputs": [
    {
     "data": {
      "text/plain": [
       "3"
      ]
     },
     "execution_count": 172,
     "metadata": {},
     "output_type": "execute_result"
    }
   ],
   "source": [
    "s1 = Student(\"Dijkstra\", 99)\n",
    "s2 = Student(\"Eratosthenes\", 97)\n",
    "s3 = Student(\"Evangeline\", 100)\n",
    "\n",
    "Student.total_students"
   ]
  },
  {
   "cell_type": "markdown",
   "id": "d7bbc4c9-95aa-42e7-9ab1-3f0c4b2bd3d4",
   "metadata": {},
   "source": [
    "**9. Define a class Company with a class variable total_employees. Every time an instance is created, increment total_employees. Create an instance variable employee_id unique to each instance. Verify the difference between instance and class variables.**"
   ]
  },
  {
   "cell_type": "code",
   "execution_count": 178,
   "id": "42fe89a1-d679-4c79-bfa1-c52a47372ccb",
   "metadata": {},
   "outputs": [],
   "source": [
    "class Company():\n",
    "\n",
    "    total_employees = 0\n",
    "    \n",
    "    def __init__(self, employee_id):\n",
    "        self.employee_id = employee_id\n",
    "        Company.total_employees += 1"
   ]
  },
  {
   "cell_type": "code",
   "execution_count": 179,
   "id": "627da50b-7712-44ee-9672-34fba8d8812c",
   "metadata": {},
   "outputs": [
    {
     "name": "stdout",
     "output_type": "stream",
     "text": [
      "Total employees: 3\n",
      "\n",
      "Employee 1 ID: 101\n",
      "Employee 2 ID: 102\n",
      "Employee 3 ID: 103\n"
     ]
    }
   ],
   "source": [
    "employee1 = Company(101)\n",
    "employee2 = Company(102)\n",
    "employee3 = Company(103)\n",
    "\n",
    "print(f\"Total employees: {Company.total_employees}\")\n",
    "print()\n",
    "print(f\"Employee 1 ID: {employee1.employee_id}\")\n",
    "print(f\"Employee 2 ID: {employee2.employee_id}\")\n",
    "print(f\"Employee 3 ID: {employee3.employee_id}\")"
   ]
  },
  {
   "cell_type": "markdown",
   "id": "8ceaeb62-62d3-4ce9-9dc5-0c44a6dca581",
   "metadata": {},
   "source": [
    "**10. Create a class Rectangle with length and width attributes. Define a method resize(new_length, new_width) to update these attributes. Add a method to calculate the area, and verify the new area after resizing.**"
   ]
  },
  {
   "cell_type": "code",
   "execution_count": 189,
   "id": "50c8860f-9879-4c24-9096-ec6044e678ce",
   "metadata": {},
   "outputs": [],
   "source": [
    "class Rectangle():\n",
    "    \n",
    "    def __init__ (self, length, width):\n",
    "        self.length = length\n",
    "        self.width = width\n",
    "\n",
    "    def resize(self, new_length, new_width):\n",
    "        self.length = new_length\n",
    "        self.width = new_width\n",
    "\n",
    "    def area(self):\n",
    "        print(f\"Area of the rectangle: {self.length * self.width}\")"
   ]
  },
  {
   "cell_type": "code",
   "execution_count": 206,
   "id": "428e56c0-45a9-4c5f-b532-8f44abafa939",
   "metadata": {},
   "outputs": [
    {
     "name": "stdout",
     "output_type": "stream",
     "text": [
      "Area of the rectangle: 240\n",
      "\n",
      "New length:  20\n",
      "New width:  25\n",
      "\n",
      "Area of the rectangle: 500\n"
     ]
    }
   ],
   "source": [
    "r1 = Rectangle(12, 20)\n",
    "r1.area()\n",
    "\n",
    "r1.resize(20, 25)\n",
    "print()\n",
    "print(\"New length: \", r1.length)\n",
    "print(\"New width: \", r1.width)\n",
    "print()\n",
    "r1.area()"
   ]
  },
  {
   "cell_type": "markdown",
   "id": "e741eafa-a2df-4e99-b8a3-7d8a4269a5e3",
   "metadata": {},
   "source": [
    "**11. Define a class BankAccount with the following attributes...**"
   ]
  },
  {
   "cell_type": "code",
   "execution_count": 342,
   "id": "1a306ca0-94e0-4cc7-90fe-04effe2ddf7b",
   "metadata": {},
   "outputs": [],
   "source": [
    "class BankAccount():\n",
    "    \n",
    "    def __init__(self, account_number, account_holder, account_type = \"Checking\", balance = 0, transactions = [], interest_rate = 0.01):\n",
    "        self.account_number = account_number\n",
    "        self.account_holder = account_holder\n",
    "        self.account_type = account_type\n",
    "        self.balance = balance\n",
    "        self.transactions = transactions\n",
    "        self.interest_rate = interest_rate\n",
    "\n",
    "    def deposit(self, amount):\n",
    "        self.balance += amount\n",
    "        self.transactions.append(f\"Deposited Amount: {amount}\")\n",
    "\n",
    "    def withdraw(self, amount):\n",
    "        if self.balance < amount:\n",
    "            print(f\"Entered amount cannot be more that you balance!\")\n",
    "        else:\n",
    "            self.balance -= amount\n",
    "            self.transactions.append(f\"Amount Withdrawn: {amount}\")\n",
    "\n",
    "    def display_balance(self):\n",
    "        print(f\"Current balance: {self.balance}\")\n",
    "\n",
    "    def display_transactions(self):\n",
    "        return self.transactions\n",
    "\n",
    "    def apply_interest(self, years):\n",
    "        self.balance += self.balance * self.interest_rate * years\n",
    "        print(f\"New balance: {self.balance}\")\n",
    "\n",
    "    def account_summary(self):\n",
    "        print(f\"Account Number: {self.account_number}\\nAccount Holder Name: {self.account_holder}\\nAccount Type: {self.account_type}\\nCurrent Balance: {self.balance}\\nRecent Transactions: {self.display_transactions()}\")"
   ]
  },
  {
   "cell_type": "code",
   "execution_count": 343,
   "id": "873bd0a6-20d7-42e5-bb9f-8a100cd9ded9",
   "metadata": {},
   "outputs": [],
   "source": [
    "ba1 = BankAccount(101, \"Asif\", account_type = \"Savings\")"
   ]
  },
  {
   "cell_type": "code",
   "execution_count": 344,
   "id": "90b61960-f469-4f84-9ba9-d756d87fb2e8",
   "metadata": {},
   "outputs": [],
   "source": [
    "ba1.deposit(2500)"
   ]
  },
  {
   "cell_type": "code",
   "execution_count": 345,
   "id": "43643a6e-ecd1-4866-b36e-bf2698bd6ed4",
   "metadata": {},
   "outputs": [
    {
     "name": "stdout",
     "output_type": "stream",
     "text": [
      "Current balance: 2500\n"
     ]
    }
   ],
   "source": [
    "ba1.display_balance()"
   ]
  },
  {
   "cell_type": "code",
   "execution_count": 346,
   "id": "171104c9-7625-47ce-a871-507b5b65b4c0",
   "metadata": {},
   "outputs": [],
   "source": [
    "ba1.withdraw(1200)\n",
    "ba1.deposit(600)"
   ]
  },
  {
   "cell_type": "code",
   "execution_count": 347,
   "id": "8c0c5458-706a-47c7-9290-a6660f9ec37d",
   "metadata": {},
   "outputs": [
    {
     "name": "stdout",
     "output_type": "stream",
     "text": [
      "Current balance: 1900\n"
     ]
    }
   ],
   "source": [
    "ba1.display_balance()"
   ]
  },
  {
   "cell_type": "code",
   "execution_count": 348,
   "id": "5af8ed53-8730-4871-95f5-8c1ba119a5b7",
   "metadata": {},
   "outputs": [
    {
     "data": {
      "text/plain": [
       "['Deposited Amount: 2500', 'Amount Withdrawn: 1200', 'Deposited Amount: 600']"
      ]
     },
     "execution_count": 348,
     "metadata": {},
     "output_type": "execute_result"
    }
   ],
   "source": [
    "ba1.display_transactions()"
   ]
  },
  {
   "cell_type": "code",
   "execution_count": 349,
   "id": "21a64021-6591-47df-9997-1e30a1e9645c",
   "metadata": {},
   "outputs": [
    {
     "name": "stdout",
     "output_type": "stream",
     "text": [
      "New balance: 1957.0\n"
     ]
    }
   ],
   "source": [
    "ba1.apply_interest(3)"
   ]
  },
  {
   "cell_type": "code",
   "execution_count": 350,
   "id": "f07a22cc-ddb5-4fc4-91c6-81c94c859a27",
   "metadata": {},
   "outputs": [
    {
     "name": "stdout",
     "output_type": "stream",
     "text": [
      "Account Number: 101\n",
      "Account Holder Name: Asif\n",
      "Account Type: Savings\n",
      "Current Balance: 1957.0\n",
      "Recent Transactions: ['Deposited Amount: 2500', 'Amount Withdrawn: 1200', 'Deposited Amount: 600']\n"
     ]
    }
   ],
   "source": [
    "ba1.account_summary()"
   ]
  }
 ],
 "metadata": {
  "kernelspec": {
   "display_name": "Python 3 (ipykernel)",
   "language": "python",
   "name": "python3"
  },
  "language_info": {
   "codemirror_mode": {
    "name": "ipython",
    "version": 3
   },
   "file_extension": ".py",
   "mimetype": "text/x-python",
   "name": "python",
   "nbconvert_exporter": "python",
   "pygments_lexer": "ipython3",
   "version": "3.12.4"
  }
 },
 "nbformat": 4,
 "nbformat_minor": 5
}
