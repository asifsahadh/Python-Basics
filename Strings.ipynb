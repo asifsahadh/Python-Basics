{
 "cells": [
  {
   "cell_type": "markdown",
   "metadata": {},
   "source": [
    "## Strings"
   ]
  },
  {
   "cell_type": "markdown",
   "metadata": {},
   "source": [
    "**1. Reverse a String**"
   ]
  },
  {
   "cell_type": "code",
   "execution_count": 59,
   "metadata": {},
   "outputs": [
    {
     "name": "stdin",
     "output_type": "stream",
     "text": [
      "Enter String:  python\n"
     ]
    },
    {
     "name": "stdout",
     "output_type": "stream",
     "text": [
      "\n",
      "nohtyp\n"
     ]
    }
   ],
   "source": [
    "s = str(input(\"Enter String: \"))\n",
    "rev = \"\"\n",
    "l = len(s) - 1 # because indexing starts from 0\n",
    "\n",
    "# loop to add letters from the last element\n",
    "while l >= 0: \n",
    "    rev += s[l]\n",
    "    l -= 1\n",
    "    \n",
    "print()\n",
    "print(rev)"
   ]
  },
  {
   "cell_type": "markdown",
   "metadata": {},
   "source": [
    "**2.  Check for Palindrome**"
   ]
  },
  {
   "cell_type": "code",
   "execution_count": 15,
   "metadata": {},
   "outputs": [
    {
     "name": "stdin",
     "output_type": "stream",
     "text": [
      "Enter String:  race car\n"
     ]
    },
    {
     "name": "stdout",
     "output_type": "stream",
     "text": [
      "\n",
      "String is a Palindrome.\n"
     ]
    }
   ],
   "source": [
    "s = str(input(\"Enter String: \"))\n",
    "new_s = \"\"\n",
    "\n",
    "# to remove white spaces within the sentence\n",
    "for occ in s:\n",
    "    if occ == \" \":\n",
    "        continue\n",
    "    else:\n",
    "        new_s += occ\n",
    "\n",
    "# string reversing\n",
    "rev = \"\"\n",
    "l = len(new_s) - 1\n",
    "while l >= 0:\n",
    "    rev += new_s[l]\n",
    "    l -= 1\n",
    "\n",
    "if new_s == rev:\n",
    "    print(\"\\nString is a Palindrome.\")\n",
    "else:\n",
    "    print(\"\\nString is not a Palindrome.\")"
   ]
  },
  {
   "cell_type": "markdown",
   "metadata": {},
   "source": [
    "**3. Count Vowels and Consonants**"
   ]
  },
  {
   "cell_type": "code",
   "execution_count": 20,
   "metadata": {},
   "outputs": [
    {
     "name": "stdin",
     "output_type": "stream",
     "text": [
      "Enter String:  Abercrombie\n"
     ]
    },
    {
     "name": "stdout",
     "output_type": "stream",
     "text": [
      "\n",
      "Number of Vowels: 5\n",
      "Number of Consonants: 6\n"
     ]
    }
   ],
   "source": [
    "s = str(input(\"Enter String: \"))\n",
    "\n",
    "vowel_count = con_count = 0\n",
    "for char in s:\n",
    "    if char in \"aeiouAEIOU\": # to check if the letter is a vowel\n",
    "        vowel_count += 1\n",
    "    else:\n",
    "        con_count += 1\n",
    "\n",
    "print()\n",
    "print(f\"Number of Vowels: {vowel_count}\")\n",
    "print(f\"Number of Consonants: {con_count}\")"
   ]
  },
  {
   "cell_type": "markdown",
   "metadata": {},
   "source": [
    "**4. Find the Length of a String**"
   ]
  },
  {
   "cell_type": "code",
   "execution_count": 61,
   "metadata": {},
   "outputs": [
    {
     "name": "stdin",
     "output_type": "stream",
     "text": [
      "Enter String:  Laurent\n"
     ]
    },
    {
     "name": "stdout",
     "output_type": "stream",
     "text": [
      "\n",
      "Length of the String is 7\n"
     ]
    }
   ],
   "source": [
    "s = str(input(\"Enter String: \"))\n",
    "l = 0\n",
    "for char in s:\n",
    "    l += 1\n",
    "\n",
    "print()\n",
    "print(f\"Length of the String is {l}\")"
   ]
  },
  {
   "cell_type": "markdown",
   "metadata": {},
   "source": [
    "**5. Convert Uppercase to Lowercase**"
   ]
  },
  {
   "cell_type": "code",
   "execution_count": 10,
   "metadata": {},
   "outputs": [
    {
     "name": "stdin",
     "output_type": "stream",
     "text": [
      "Enter String:  Jean Paul Gaultier Le Male\n"
     ]
    },
    {
     "name": "stdout",
     "output_type": "stream",
     "text": [
      "\n",
      "jean paul gaultier le male\n"
     ]
    }
   ],
   "source": [
    "s = str(input(\"Enter String: \"))\n",
    "lower_s = ''\n",
    "\n",
    "for char in s:\n",
    "    if 'A' <= char <= 'Z': # check if char is lowercase\n",
    "        lower_s += chr(ord(char) + 32) # convert to lowercase by adding 32 to ASCII value\n",
    "    else:\n",
    "        lower_s += char\n",
    "\n",
    "print()\n",
    "print(lower_s)"
   ]
  },
  {
   "cell_type": "markdown",
   "metadata": {},
   "source": [
    "**6. Count the Occurrence of a Character**"
   ]
  },
  {
   "cell_type": "code",
   "execution_count": 23,
   "metadata": {},
   "outputs": [
    {
     "name": "stdin",
     "output_type": "stream",
     "text": [
      "Enter Character:  l\n",
      "Enter String:  one million\n"
     ]
    },
    {
     "name": "stdout",
     "output_type": "stream",
     "text": [
      "\n",
      "The Character l occurs 2 times in the String\n"
     ]
    }
   ],
   "source": [
    "c = str(input(\"Enter Character: \"))\n",
    "s = str(input(\"Enter String: \"))\n",
    "count = 0\n",
    "\n",
    "for char in s:\n",
    "    if char == c: # only count if the character is same as the letter in the word\n",
    "        count += 1\n",
    "\n",
    "print()\n",
    "print(f\"The Character {c} occurs {count} times in the String\")"
   ]
  },
  {
   "cell_type": "markdown",
   "metadata": {},
   "source": [
    "**7. Remove Spaces from a String**"
   ]
  },
  {
   "cell_type": "code",
   "execution_count": 24,
   "metadata": {},
   "outputs": [
    {
     "name": "stdin",
     "output_type": "stream",
     "text": [
      "Enter String:  I am going to Mecca\n"
     ]
    },
    {
     "name": "stdout",
     "output_type": "stream",
     "text": [
      "\n",
      "IamgoingtoMecca\n"
     ]
    }
   ],
   "source": [
    "s = str(input(\"Enter String: \"))\n",
    "\n",
    "new_s = \"\"\n",
    "for occ in s:\n",
    "    if occ == \" \":\n",
    "        continue\n",
    "    else:\n",
    "        new_s += occ\n",
    "        \n",
    "print()\n",
    "print(new_s)"
   ]
  },
  {
   "cell_type": "markdown",
   "metadata": {},
   "source": [
    "**8. Count Words in a Sentence**"
   ]
  },
  {
   "cell_type": "code",
   "execution_count": 26,
   "metadata": {},
   "outputs": [
    {
     "name": "stdin",
     "output_type": "stream",
     "text": [
      "Enter a Sentence:  I need to improve a lot in Python\n"
     ]
    },
    {
     "name": "stdout",
     "output_type": "stream",
     "text": [
      "\n",
      "8\n"
     ]
    }
   ],
   "source": [
    "s = str(input(\"Enter a Sentence: \"))\n",
    "count = 1\n",
    "\n",
    "for occ in s:\n",
    "    if occ == \" \": # count based on number of white spaces\n",
    "        count += 1\n",
    "\n",
    "print()\n",
    "print(count)"
   ]
  },
  {
   "cell_type": "markdown",
   "metadata": {},
   "source": [
    "**9. Replace a Character in a String**"
   ]
  },
  {
   "cell_type": "code",
   "execution_count": 27,
   "metadata": {},
   "outputs": [
    {
     "name": "stdin",
     "output_type": "stream",
     "text": [
      "Enter Character that you want to Replace:  a\n",
      "Enter Character that you want to Replace it with:  b\n",
      "Enter String:  Nautica Voyage\n"
     ]
    },
    {
     "name": "stdout",
     "output_type": "stream",
     "text": [
      "\n",
      "Nbuticb Voybge\n"
     ]
    }
   ],
   "source": [
    "c1 = str(input(\"Enter Character that you want to Replace: \"))\n",
    "c2 = str(input(\"Enter Character that you want to Replace it with: \"))\n",
    "s = str(input(\"Enter String: \"))\n",
    "\n",
    "new_s = ''\n",
    "for char in s:\n",
    "    if char != c1: # checking if the letter is the one that hsould be replaced\n",
    "        new_s += char\n",
    "    else:\n",
    "        new_s += c2\n",
    "        \n",
    "print()\n",
    "print(new_s)"
   ]
  },
  {
   "cell_type": "markdown",
   "metadata": {},
   "source": [
    "**10. Find the Largest Word in a Sentence**"
   ]
  },
  {
   "cell_type": "code",
   "execution_count": 60,
   "metadata": {},
   "outputs": [
    {
     "name": "stdin",
     "output_type": "stream",
     "text": [
      "Enter a Sentence:  I will be travelling today\n"
     ]
    },
    {
     "name": "stdout",
     "output_type": "stream",
     "text": [
      "\n",
      "Largest Word - travelling\n"
     ]
    }
   ],
   "source": [
    "s = str(input(\"Enter a Sentence: \"))\n",
    "word = \"\"\n",
    "word_list = []\n",
    "\n",
    "# creating a list of words from the sentence\n",
    "for letter in s:\n",
    "    if letter != \" \":\n",
    "        word += letter\n",
    "    else:\n",
    "        word_list.append(word)\n",
    "        word = \"\"\n",
    "        \n",
    "word_list.append(word)\n",
    "\n",
    "# finding the largest word from the list\n",
    "largest_word = \"\"\n",
    "largest_length = 0\n",
    "\n",
    "for word in word_list:\n",
    "    word_length = 0\n",
    "    for letter in word:\n",
    "        word_length += 1\n",
    "    if word_length > largest_length:\n",
    "        largest_length = word_length\n",
    "        largest_word = word\n",
    "\n",
    "print()\n",
    "print(\"Largest Word -\", largest_word)"
   ]
  },
  {
   "cell_type": "markdown",
   "metadata": {},
   "source": [
    "**11. Check if Two Strings are Anagrams**"
   ]
  },
  {
   "cell_type": "code",
   "execution_count": 32,
   "metadata": {},
   "outputs": [
    {
     "name": "stdin",
     "output_type": "stream",
     "text": [
      "Enter First String:  palm\n",
      "Enter Second String:  lamp\n"
     ]
    },
    {
     "name": "stdout",
     "output_type": "stream",
     "text": [
      "\n",
      "palm and lamp are anagrams.\n"
     ]
    }
   ],
   "source": [
    "s1 = str(input(\"Enter First String: \"))\n",
    "s2 = str(input(\"Enter Second String: \"))\n",
    "\n",
    "count = 0\n",
    "for char in s1:\n",
    "    if char in s2: # checking if each letter is s1 exists in s2\n",
    "        count += 1\n",
    "        \n",
    "if count == len(s1): \n",
    "    print()\n",
    "    print(f\"{s1} and {s2} are anagrams.\")\n",
    "else:\n",
    "    print()\n",
    "    print(f\"{s1} and {s2} are not anagrams.\")"
   ]
  },
  {
   "cell_type": "markdown",
   "metadata": {},
   "source": [
    "**12. Remove Vowels from a String**"
   ]
  },
  {
   "cell_type": "code",
   "execution_count": 33,
   "metadata": {},
   "outputs": [
    {
     "name": "stdin",
     "output_type": "stream",
     "text": [
      "Enter a String:  United Arab Emirates\n"
     ]
    },
    {
     "name": "stdout",
     "output_type": "stream",
     "text": [
      "\n",
      "ntd rb mrts\n"
     ]
    }
   ],
   "source": [
    "s = str(input(\"Enter a String: \"))\n",
    "final = \"\"\n",
    "\n",
    "for char in s:\n",
    "    if char not in 'aeiouAEIOU':\n",
    "        final += char\n",
    "        \n",
    "print()\n",
    "print(final)"
   ]
  },
  {
   "cell_type": "markdown",
   "metadata": {},
   "source": [
    "**13. Find the First Non-Repeated Character**"
   ]
  },
  {
   "cell_type": "code",
   "execution_count": 47,
   "metadata": {},
   "outputs": [
    {
     "data": {
      "text/plain": [
       "'c'"
      ]
     },
     "execution_count": 47,
     "metadata": {},
     "output_type": "execute_result"
    }
   ],
   "source": [
    "s = 'abacabad' \n",
    "seen = [] # records a character and records it again if it is seen again\n",
    "once = [] # records occurence of a character\n",
    "\n",
    "for ch in s:\n",
    "    if ch in once:\n",
    "        seen.append(ch)\n",
    "    else:\n",
    "        once.append(ch)\n",
    "        \n",
    "final = []\n",
    "# records all characters in 'once' but not in 'seen'\n",
    "for ch in once:\n",
    "    if ch not in seen:\n",
    "        final.append(ch)\n",
    "        \n",
    "final[0] # returns first occurance"
   ]
  },
  {
   "cell_type": "markdown",
   "metadata": {},
   "source": [
    "**14. String Compression**"
   ]
  },
  {
   "cell_type": "code",
   "execution_count": 49,
   "metadata": {},
   "outputs": [
    {
     "name": "stdout",
     "output_type": "stream",
     "text": [
      "a3b3c2\n"
     ]
    }
   ],
   "source": [
    "s = 'aaabbbcc'\n",
    "l = ''\n",
    "c = 1\n",
    "\n",
    "for i in range(1, len(s)): # 1, becuase we need to start from the second element\n",
    "    if s[i] == s[i - 1]: # check if element is same as previous element\n",
    "        c += 1\n",
    "    else:\n",
    "        l += s[i - 1] + str(c) # if new character seen, append all the information\n",
    "        c = 1 # reset counter to 1\n",
    "        \n",
    "l += s[-1] + str(c)\n",
    "\n",
    "print(l)"
   ]
  },
  {
   "cell_type": "markdown",
   "metadata": {},
   "source": [
    "**15. Remove All Occurrences of a Character**"
   ]
  },
  {
   "cell_type": "code",
   "execution_count": 51,
   "metadata": {},
   "outputs": [
    {
     "name": "stdin",
     "output_type": "stream",
     "text": [
      "Enter Character that you want to Remove:  a\n",
      "Enter String:  dior sauvage\n"
     ]
    },
    {
     "name": "stdout",
     "output_type": "stream",
     "text": [
      "\n",
      "dior suvge\n"
     ]
    }
   ],
   "source": [
    "c = str(input(\"Enter Character that you want to Remove: \"))\n",
    "s = str(input(\"Enter String: \"))\n",
    "new_s = ''\n",
    "\n",
    "for char in s:\n",
    "    if char != c: # only append characters that are not equal to c\n",
    "        new_s += char\n",
    "\n",
    "print()\n",
    "print(new_s)"
   ]
  }
 ],
 "metadata": {
  "kernelspec": {
   "display_name": "Python 3 (ipykernel)",
   "language": "python",
   "name": "python3"
  },
  "language_info": {
   "codemirror_mode": {
    "name": "ipython",
    "version": 3
   },
   "file_extension": ".py",
   "mimetype": "text/x-python",
   "name": "python",
   "nbconvert_exporter": "python",
   "pygments_lexer": "ipython3",
   "version": "3.12.4"
  }
 },
 "nbformat": 4,
 "nbformat_minor": 4
}
